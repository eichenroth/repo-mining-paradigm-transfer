{
 "cells": [
  {
   "cell_type": "markdown",
   "metadata": {},
   "source": [
    "This is necessary to access own modules."
   ]
  },
  {
   "cell_type": "code",
   "execution_count": 1,
   "metadata": {},
   "outputs": [],
   "source": [
    "import sys\n",
    "sys.path.append('..')"
   ]
  },
  {
   "cell_type": "markdown",
   "metadata": {},
   "source": [
    "List of available test files for analyzing."
   ]
  },
  {
   "cell_type": "code",
   "execution_count": 2,
   "metadata": {},
   "outputs": [
    {
     "name": "stdout",
     "output_type": "stream",
     "text": [
      "./files/multiple_inheritances.py\n",
      "./files/comprehension.py\n",
      "./files/built_in_function.py\n",
      "./files/control_flow.py\n",
      "./files/accuracy.py\n",
      "./files/redis_db.py\n",
      "./files/hierarchical_softmax.py\n"
     ]
    }
   ],
   "source": [
    "import os\n",
    "\n",
    "file_names = ['./files/' + file for file in os.listdir('./files')]\n",
    "for file_name in file_names:\n",
    "    print(file_name)"
   ]
  },
  {
   "cell_type": "markdown",
   "metadata": {},
   "source": [
    "Sets the file name.  \n",
    "Change `file_name` to analyze another file."
   ]
  },
  {
   "cell_type": "code",
   "execution_count": 3,
   "metadata": {},
   "outputs": [],
   "source": [
    "file_name = './files/hierarchical_softmax.py'\n",
    "with open(file_name, 'r') as f:\n",
    "    file = f.readlines()"
   ]
  },
  {
   "cell_type": "markdown",
   "metadata": {},
   "source": [
    "Creates an analyzer object and runs it with its `__call__` method.  \n",
    "Uncomment the detector definition to select detectors."
   ]
  },
  {
   "cell_type": "code",
   "execution_count": 4,
   "metadata": {},
   "outputs": [],
   "source": [
    "from src.python_language_analyzer.analyzer import Analyzer\n",
    "from src.python_language_analyzer.detectors.built_in_function_detector import BuiltInFunctionDetector\n",
    "from src.python_language_analyzer.detectors.class_detector import ClassDefinitionDetector\n",
    "from src.python_language_analyzer.detectors.control_flow_detector import ControlFlowDetector\n",
    "from src.python_language_analyzer.detectors.comprehension_detector import ComprehensionDetector\n",
    "\n",
    "# detectors = [BuiltInFunctionDetector, ClassDefinitionDetector, ControlFlowDetector, ComprehensionDetector]\n",
    "# analyzer = Analyzer(file, detectors)\n",
    "\n",
    "analyzer = Analyzer(file)\n",
    "\n",
    "detections = analyzer()"
   ]
  },
  {
   "cell_type": "markdown",
   "metadata": {},
   "source": [
    "Prints the detections for the given file."
   ]
  },
  {
   "cell_type": "code",
   "execution_count": 5,
   "metadata": {},
   "outputs": [
    {
     "name": "stdout",
     "output_type": "stream",
     "text": [
      "detection_class: BuiltInFunctionDetection\n",
      "lines: (36, 36)\n",
      "name: len\n",
      "\n",
      "detection_class: BuiltInFunctionDetection\n",
      "lines: (37, 37)\n",
      "name: len\n",
      "\n",
      "detection_class: BuiltInFunctionDetection\n",
      "lines: (38, 38)\n",
      "name: len\n",
      "\n",
      "detection_class: BuiltInFunctionDetection\n",
      "lines: (38, 38)\n",
      "name: len\n",
      "\n",
      "detection_class: BuiltInFunctionDetection\n",
      "lines: (41, 41)\n",
      "name: isinstance\n",
      "\n",
      "detection_class: BuiltInFunctionDetection\n",
      "lines: (43, 43)\n",
      "name: len\n",
      "\n",
      "detection_class: BuiltInFunctionDetection\n",
      "lines: (85, 85)\n",
      "name: max\n",
      "\n",
      "detection_class: BuiltInFunctionDetection\n",
      "lines: (88, 88)\n",
      "name: range\n",
      "\n",
      "detection_class: BuiltInFunctionDetection\n",
      "lines: (90, 90)\n",
      "name: range\n",
      "\n",
      "detection_class: BuiltInFunctionDetection\n",
      "lines: (93, 93)\n",
      "name: range\n",
      "\n",
      "detection_class: BuiltInFunctionDetection\n",
      "lines: (94, 94)\n",
      "name: len\n",
      "\n",
      "detection_class: BuiltInFunctionDetection\n",
      "lines: (149, 149)\n",
      "name: enumerate\n",
      "\n",
      "detection_class: BuiltInFunctionDetection\n",
      "lines: (300, 300)\n",
      "name: super\n",
      "\n",
      "detection_class: BuiltInFunctionDetection\n",
      "lines: (309, 309)\n",
      "name: super\n",
      "\n",
      "detection_class: BuiltInFunctionDetection\n",
      "lines: (313, 313)\n",
      "name: super\n",
      "\n",
      "detection_class: BuiltInFunctionDetection\n",
      "lines: (333, 333)\n",
      "name: len\n",
      "\n",
      "detection_class: BuiltInFunctionDetection\n",
      "lines: (340, 340)\n",
      "name: enumerate\n",
      "\n",
      "detection_class: BuiltInFunctionDetection\n",
      "lines: (348, 348)\n",
      "name: min\n",
      "\n",
      "detection_class: ClassDefinitionDetection\n",
      "lines: (14, 61)\n",
      "name: TreeParser\n",
      "method_count: 6\n",
      "nested: False\n",
      "\n",
      "detection_class: ClassDefinitionDetection\n",
      "lines: (64, 250)\n",
      "name: BinaryHierarchicalSoftmaxFunction\n",
      "method_count: 10\n",
      "nested: False\n",
      "\n",
      "detection_class: ClassDefinitionDetection\n",
      "lines: (253, 364)\n",
      "name: BinaryHierarchicalSoftmax\n",
      "method_count: 5\n",
      "nested: False\n",
      "\n",
      "detection_class: IfDetection\n",
      "lines: (41, 61)\n",
      "has_else: True\n",
      "elseif_count: 0\n",
      "\n",
      "detection_class: IfDetection\n",
      "lines: (43, 45)\n",
      "has_else: False\n",
      "elseif_count: 0\n",
      "\n",
      "detection_class: IfDetection\n",
      "lines: (333, 334)\n",
      "has_else: False\n",
      "elseif_count: 0\n",
      "\n",
      "detection_class: ListComprehensionDetection\n",
      "lines: (88, 88)\n",
      "generator_count: 1\n",
      "\n",
      "detection_class: ListComprehensionDetection\n",
      "lines: (90, 90)\n",
      "generator_count: 1\n",
      "\n"
     ]
    }
   ],
   "source": [
    "for detection in detections:\n",
    "    print('detection_class:', detection.__class__.__name__)\n",
    "    print('lines:', (detection.begin, detection.end))\n",
    "    for info_key in detection.INFO_KEYS:\n",
    "        print(info_key + ':', getattr(detection, info_key))\n",
    "    print()"
   ]
  }
 ],
 "metadata": {
  "kernelspec": {
   "display_name": "Python 3",
   "language": "python",
   "name": "python3"
  },
  "language_info": {
   "codemirror_mode": {
    "name": "ipython",
    "version": 3
   },
   "file_extension": ".py",
   "mimetype": "text/x-python",
   "name": "python",
   "nbconvert_exporter": "python",
   "pygments_lexer": "ipython3",
   "version": "3.6.5"
  }
 },
 "nbformat": 4,
 "nbformat_minor": 2
}
