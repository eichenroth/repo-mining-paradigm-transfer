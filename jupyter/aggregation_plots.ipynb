{
 "cells": [
  {
   "cell_type": "markdown",
   "metadata": {},
   "source": [
    "This is necessary to access own modules."
   ]
  },
  {
   "cell_type": "code",
   "execution_count": 1,
   "metadata": {},
   "outputs": [],
   "source": [
    "import sys\n",
    "sys.path.append('..')"
   ]
  },
  {
   "cell_type": "markdown",
   "metadata": {},
   "source": [
    "# Build up"
   ]
  },
  {
   "cell_type": "markdown",
   "metadata": {},
   "source": [
    "Here the aggregation paths get loaded."
   ]
  },
  {
   "cell_type": "code",
   "execution_count": 2,
   "metadata": {},
   "outputs": [],
   "source": [
    "from src.utils.settings import Settings\n",
    "\n",
    "settings = Settings()\n",
    "java_aggregation_path = settings.get_path(['detections', 'java_python'])\n",
    "cpp_aggregation_path = settings.get_path(['detections', 'cpp_python'])\n",
    "fun_aggregation_path = settings.get_path(['detections', 'fun_python'])\n",
    "\n",
    "aggregation_paths = [java_aggregation_path, cpp_aggregation_path, fun_aggregation_path]\n",
    "\n",
    "aggregation_paths = [p + '/detections.json' for p in aggregation_paths]"
   ]
  },
  {
   "cell_type": "markdown",
   "metadata": {},
   "source": [
    "Creation of the aggregator object.  \n",
    "Loading from the file system."
   ]
  },
  {
   "cell_type": "code",
   "execution_count": 3,
   "metadata": {},
   "outputs": [],
   "source": [
    "from src.python_language_analyzer.aggregator import Aggregator\n",
    "\n",
    "aggregators = [Aggregator.load(p) for p in aggregation_paths]"
   ]
  },
  {
   "cell_type": "markdown",
   "metadata": {},
   "source": [
    "Creation of the plotter object.  \n",
    "The plotter takes an array of labels for plotting."
   ]
  },
  {
   "cell_type": "code",
   "execution_count": 4,
   "metadata": {},
   "outputs": [],
   "source": [
    "from src.github.plotter import Plotter\n",
    "\n",
    "plotter = Plotter()\n",
    "\n",
    "labels = ['Java', 'C++', 'func languages']"
   ]
  },
  {
   "cell_type": "markdown",
   "metadata": {},
   "source": [
    "These are the available Detections one can filter with."
   ]
  },
  {
   "cell_type": "code",
   "execution_count": 5,
   "metadata": {},
   "outputs": [],
   "source": [
    "from src.python_language_analyzer.detectors.built_in_function_detector import BuiltInFunctionDetection\n",
    "from src.python_language_analyzer.detectors.class_detector import ClassDefinitionDetection\n",
    "from src.python_language_analyzer.detectors.comprehension_detector import ListComprehensionDetection, DictComprehensionDetection, SetComprehensionDetection\n",
    "from src.python_language_analyzer.detectors.control_flow_detector import IfDetection"
   ]
  },
  {
   "cell_type": "markdown",
   "metadata": {},
   "source": [
    "For each detection this are the available additional information keys."
   ]
  },
  {
   "cell_type": "code",
   "execution_count": 6,
   "metadata": {},
   "outputs": [
    {
     "name": "stdout",
     "output_type": "stream",
     "text": [
      "built in function info keys: ['name']\n",
      "class info keys: ['name', 'method_count', 'nested']\n",
      "comprehension info keys: ['generator_count']\n",
      "if info keys: ['has_else', 'elseif_count']\n"
     ]
    }
   ],
   "source": [
    "print('built in function info keys:', BuiltInFunctionDetection.INFO_KEYS)\n",
    "print('class info keys:', ClassDefinitionDetection.INFO_KEYS)\n",
    "print('comprehension info keys:', ListComprehensionDetection.INFO_KEYS)\n",
    "print('if info keys:', IfDetection.INFO_KEYS)"
   ]
  },
  {
   "cell_type": "markdown",
   "metadata": {},
   "source": [
    "# Plots"
   ]
  },
  {
   "cell_type": "markdown",
   "metadata": {},
   "source": [
    "The aggregator has two types of aggregations:\n",
    "- `percentage` which takes the `Detection` class and the aggregation level.  \n",
    "This calculates the overall percentage of this detection among all detections.\n",
    "- `aggregate` which takes the Detection, the field it should aggregate over and the aggregation level.\n",
    "This calculates the average for each aggregation field and aggregation level."
   ]
  },
  {
   "cell_type": "code",
   "execution_count": 7,
   "metadata": {},
   "outputs": [],
   "source": [
    "if_percentage = [a.percentage(IfDetection, 'user_id') for a in aggregators]\n",
    "plotter(if_percentage, labels, 'If percentage', save=False, show=True)"
   ]
  },
  {
   "cell_type": "code",
   "execution_count": 8,
   "metadata": {},
   "outputs": [],
   "source": [
    "if_elseif_count_aggregation = [a.aggregate(IfDetection, 'elseif_count', 'user_id') for a in aggregators]\n",
    "if_has_else_aggregation = [a.aggregate(IfDetection, 'has_else', 'user_id') for a in aggregators]\n",
    "\n",
    "plotter(if_elseif_count_aggregation, labels, 'Elseif count', save=False, show=True)\n",
    "plotter(if_has_else_aggregation, labels, 'If has else', save=False, show=True)"
   ]
  },
  {
   "cell_type": "markdown",
   "metadata": {},
   "source": [
    "Instead of a info field one can also pass a function, that takes a detection object, as info. This calculates the desired value via the function and aggregates it."
   ]
  },
  {
   "cell_type": "code",
   "execution_count": 9,
   "metadata": {},
   "outputs": [],
   "source": [
    "def line_count(detection):\n",
    "    return detection.end - detection.begin + 1\n",
    "\n",
    "def name_length(detection):\n",
    "    return len(detection.name)\n",
    "\n",
    "class_line_count_aggregation = [a.aggregate(ClassDefinitionDetection, line_count, 'user_id') for a in aggregators]\n",
    "class_name_length_aggregation = [a.aggregate(ClassDefinitionDetection, name_length, 'user_id') for a in aggregators]\n",
    "\n",
    "plotter(class_line_count_aggregation, labels, 'Class line count', save=False, show=True)\n",
    "plotter(class_name_length_aggregation, labels, 'Class name length', save=False, show=True)"
   ]
  },
  {
   "cell_type": "markdown",
   "metadata": {},
   "source": [
    "We can also use a callable object as info function."
   ]
  },
  {
   "cell_type": "code",
   "execution_count": 10,
   "metadata": {},
   "outputs": [],
   "source": [
    "class IsFunction:\n",
    "    def __init__(self, name):\n",
    "        self.name = name\n",
    "\n",
    "    def __call__(self, detection):\n",
    "        return 1 if detection.name == self.name else 0\n",
    "\n",
    "bif_map_count_aggregation = [a.aggregate(BuiltInFunctionDetection, IsFunction('map'), 'user_id') for a in aggregators]\n",
    "bif_filter_count_aggregation = [a.aggregate(BuiltInFunctionDetection, IsFunction('filter'), 'user_id') for a in aggregators]\n",
    "\n",
    "plotter(bif_map_count_aggregation, labels, 'Map percentage', save=False, show=True)\n",
    "plotter(bif_filter_count_aggregation, labels, 'Filter percentage', save=False, show=True)"
   ]
  },
  {
   "cell_type": "code",
   "execution_count": 11,
   "metadata": {},
   "outputs": [],
   "source": [
    "list_comprehension_percentage = [a.percentage(ListComprehensionDetection, 'user_id') for a in aggregators]\n",
    "dict_comprehension_percentage = [a.percentage(DictComprehensionDetection, 'user_id') for a in aggregators]\n",
    "set_comprehension_percentage = [a.percentage(SetComprehensionDetection, 'user_id') for a in aggregators]\n",
    "\n",
    "list_comprehension_generator_count_aggregation = [a.aggregate(ListComprehensionDetection, 'generator_count', 'user_id') for a in aggregators]\n",
    "dict_comprehension_generator_count_aggregation = [a.aggregate(DictComprehensionDetection, 'generator_count', 'user_id') for a in aggregators]\n",
    "set_comprehension_generator_count_aggregation = [a.aggregate(SetComprehensionDetection, 'generator_count', 'user_id') for a in aggregators]\n",
    "\n",
    "plotter(list_comprehension_percentage, labels, 'List comprehension percentage')\n",
    "plotter(dict_comprehension_percentage, labels, 'Dict comprehension percentage')\n",
    "plotter(set_comprehension_percentage, labels, 'Set comprehension percentage')"
   ]
  }
 ],
 "metadata": {
  "kernelspec": {
   "display_name": "paradigm-transfer",
   "language": "python",
   "name": "paradigm-transfer"
  },
  "language_info": {
   "codemirror_mode": {
    "name": "ipython",
    "version": 3
   },
   "file_extension": ".py",
   "mimetype": "text/x-python",
   "name": "python",
   "nbconvert_exporter": "python",
   "pygments_lexer": "ipython3",
   "version": "3.4.2"
  }
 },
 "nbformat": 4,
 "nbformat_minor": 2
}
